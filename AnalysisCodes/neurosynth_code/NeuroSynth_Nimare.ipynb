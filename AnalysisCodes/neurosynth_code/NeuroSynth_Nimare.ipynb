{
 "cells": [
  {
   "cell_type": "code",
   "execution_count": null,
   "id": "18220dd5-f745-4ff5-92d6-c0ebdc4e8d1f",
   "metadata": {
    "execution": {
     "iopub.execute_input": "2023-08-04T11:20:29.327888Z",
     "iopub.status.busy": "2023-08-04T11:20:29.327046Z",
     "iopub.status.idle": "2023-08-04T11:20:29.339165Z",
     "shell.execute_reply": "2023-08-04T11:20:29.336126Z",
     "shell.execute_reply.started": "2023-08-04T11:20:29.327845Z"
    },
    "tags": []
   },
   "outputs": [],
   "source": [
    "import os\n",
    "import glob\n",
    "import nibabel as nib\n",
    "import numpy as np\n",
    "from nimare import dataset, meta"
   ]
  },
  {
   "cell_type": "code",
   "execution_count": null,
   "id": "eca4baf6-4278-4d87-af64-d67d772a4c1a",
   "metadata": {
    "execution": {
     "iopub.execute_input": "2023-08-04T10:18:35.435751Z",
     "iopub.status.busy": "2023-08-04T10:18:35.434777Z",
     "iopub.status.idle": "2023-08-04T10:18:41.424043Z",
     "shell.execute_reply": "2023-08-04T10:18:41.423364Z",
     "shell.execute_reply.started": "2023-08-04T10:18:35.435713Z"
    },
    "tags": []
   },
   "outputs": [],
   "source": [
    "#!pip install \"pandas==2.0.0\""
   ]
  },
  {
   "cell_type": "code",
   "execution_count": null,
   "id": "c6bbbd4f-0fbf-40ae-8167-e4511f81c6a3",
   "metadata": {
    "execution": {
     "iopub.execute_input": "2023-08-04T10:18:42.982271Z",
     "iopub.status.busy": "2023-08-04T10:18:42.981420Z",
     "iopub.status.idle": "2023-08-04T10:18:43.180884Z",
     "shell.execute_reply": "2023-08-04T10:18:43.180550Z",
     "shell.execute_reply.started": "2023-08-04T10:18:42.982231Z"
    },
    "tags": []
   },
   "outputs": [],
   "source": [
    "path = \"neurosynth_dataset_LDA50.pkl.gz\"\n",
    "dset = dataset.Dataset.load(path)"
   ]
  },
  {
   "cell_type": "code",
   "execution_count": null,
   "id": "78884cf3-f109-4453-bd69-2b5981a1839e",
   "metadata": {
    "execution": {
     "iopub.execute_input": "2023-08-04T10:18:46.548804Z",
     "iopub.status.busy": "2023-08-04T10:18:46.548152Z",
     "iopub.status.idle": "2023-08-04T10:18:46.555171Z",
     "shell.execute_reply": "2023-08-04T10:18:46.554487Z",
     "shell.execute_reply.started": "2023-08-04T10:18:46.548773Z"
    }
   },
   "outputs": [],
   "source": [
    "##%% Run the ROI decoder\n",
    "from nimare.decode.discrete import ROIAssociationDecoder"
   ]
  },
  {
   "cell_type": "code",
   "execution_count": null,
   "id": "fb3bdea8-d859-4c98-8783-d9969e16feba",
   "metadata": {
    "execution": {
     "iopub.execute_input": "2023-08-04T11:31:59.372346Z",
     "iopub.status.busy": "2023-08-04T11:31:59.371325Z",
     "iopub.status.idle": "2023-08-04T11:31:59.384720Z",
     "shell.execute_reply": "2023-08-04T11:31:59.383983Z",
     "shell.execute_reply.started": "2023-08-04T11:31:59.372288Z"
    },
    "tags": []
   },
   "outputs": [],
   "source": [
    "Mask_L_DIR = glob.glob('/Volumes/eSSD/Between-hemisphere-Functional-Divergence/Data/Neurosynth_MaskResults/IFD_NGR_Grads_Left/IFD777_NGR_Grad*_Left.nii')\n",
    "Mask_L_DIR.sort()\n",
    "Mask_R_DIR = glob.glob('/Volumes/eSSD/Between-hemisphere-Functional-Divergence/Data/Neurosynth_MaskResults/IFD_NGR_Grads_Right/IFD777_NGR_Grad*_Right.nii')\n",
    "Mask_R_DIR.sort()"
   ]
  },
  {
   "cell_type": "code",
   "execution_count": null,
   "id": "030305d8-6750-42d8-bac6-a310ae3cb2a9",
   "metadata": {
    "execution": {
     "iopub.execute_input": "2023-08-04T11:33:36.735615Z",
     "iopub.status.busy": "2023-08-04T11:33:36.734183Z",
     "iopub.status.idle": "2023-08-04T11:33:36.744396Z",
     "shell.execute_reply": "2023-08-04T11:33:36.742361Z",
     "shell.execute_reply.started": "2023-08-04T11:33:36.735527Z"
    }
   },
   "outputs": [],
   "source": [
    "threshold = 0.01"
   ]
  },
  {
   "cell_type": "code",
   "execution_count": null,
   "id": "12ce417f-4fd3-444e-900f-2d37a0d500ce",
   "metadata": {
    "execution": {
     "iopub.execute_input": "2023-08-04T11:35:31.778237Z",
     "iopub.status.busy": "2023-08-04T11:35:31.777390Z",
     "iopub.status.idle": "2023-08-04T18:12:56.080163Z",
     "shell.execute_reply": "2023-08-04T18:12:56.064292Z",
     "shell.execute_reply.started": "2023-08-04T11:35:31.778192Z"
    },
    "tags": []
   },
   "outputs": [],
   "source": [
    "for mpath in Mask_L_DIR:\n",
    "    nifti_img = nib.load(mpath)\n",
    "    image_data = nifti_img.get_fdata()\n",
    "    binary_image_data = (image_data > threshold).astype(np.int32)\n",
    "    new_nifti_img = nib.Nifti1Image(binary_image_data, nifti_img.affine)\n",
    "    decoder = ROIAssociationDecoder(\n",
    "       new_nifti_img,\n",
    "       u=0.05,\n",
    "       correction=\"fdr_bh\",\n",
    "    )\n",
    "    decoder.fit(dset)\n",
    "    decoding_results = decoder.transform()\n",
    "    nameparts = mpath.split('_')\n",
    "    decoding_results.to_csv(\"_\".join(nameparts[0:6])+'_Left.csv')"
   ]
  },
  {
   "cell_type": "code",
   "execution_count": null,
   "id": "79f4662f-fc81-4ed1-bc03-450c85d47e2d",
   "metadata": {
    "execution": {
     "iopub.execute_input": "2023-08-04T18:12:56.157072Z",
     "iopub.status.busy": "2023-08-04T18:12:56.156905Z",
     "iopub.status.idle": "2023-08-05T00:48:52.227403Z",
     "shell.execute_reply": "2023-08-05T00:48:52.210040Z",
     "shell.execute_reply.started": "2023-08-04T18:12:56.157062Z"
    },
    "tags": []
   },
   "outputs": [],
   "source": [
    "for mpath in Mask_R_DIR:\n",
    "    nifti_img = nib.load(mpath)\n",
    "    image_data = nifti_img.get_fdata()\n",
    "    binary_image_data = (image_data > threshold).astype(np.int32)\n",
    "    new_nifti_img = nib.Nifti1Image(binary_image_data, nifti_img.affine)\n",
    "    decoder = ROIAssociationDecoder(\n",
    "       new_nifti_img,\n",
    "       u=0.05,\n",
    "       correction=\"fdr_bh\",\n",
    "    )\n",
    "    decoder.fit(dset)\n",
    "    decoding_results = decoder.transform()\n",
    "    nameparts = mpath.split('_')\n",
    "    decoding_results.to_csv(\"_\".join(nameparts[0:6])+'_Right.csv')"
   ]
  }
 ],
 "metadata": {
  "kernelspec": {
   "display_name": "Python 3 (ipykernel)",
   "language": "python",
   "name": "python3"
  },
  "language_info": {
   "codemirror_mode": {
    "name": "ipython",
    "version": 3
   },
   "file_extension": ".py",
   "mimetype": "text/x-python",
   "name": "python",
   "nbconvert_exporter": "python",
   "pygments_lexer": "ipython3",
   "version": "3.9.16"
  }
 },
 "nbformat": 4,
 "nbformat_minor": 5
}
